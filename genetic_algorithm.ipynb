{
 "cells": [
  {
   "cell_type": "markdown",
   "metadata": {
    "collapsed": false
   },
   "source": [
    "## Genetski algoritem"
   ]
  },
  {
   "cell_type": "markdown",
   "metadata": {
    "collapsed": false
   },
   "source": [
    "Z genetskim algoritmom želiva ovreči spodnjo neenakost"
   ]
  },
  {
   "cell_type": "markdown",
   "metadata": {
    "collapsed": false
   },
   "source": [
    "$ Ra(G) \\geq rad(G) -1$"
   ]
  },
  {
   "cell_type": "code",
   "execution_count": 1,
   "metadata": {
    "collapsed": false
   },
   "outputs": [
   ],
   "source": [
    "def randic(graf):\n",
    "    '''vrne randicev indeks za podan graf'''\n",
    "    vsota = 0\n",
    "    povezave = graf.edges()\n",
    "    stopnje = graf.degree()\n",
    "    for edge in povezave:\n",
    "        u, v,_ = edge\n",
    "        d_u = stopnje[u]\n",
    "        d_v = stopnje[v]\n",
    "        vsota += 1/((d_u * d_v)**(1/2))\n",
    "    return(vsota)"
   ]
  },
  {
   "cell_type": "code",
   "execution_count": 2,
   "metadata": {
    "collapsed": false
   },
   "outputs": [
   ],
   "source": [
    "def fitness(graf):\n",
    "    '''Vrne vrednost naše neenakosti, če je negativna lema ne drži'''\n",
    "    return randic(graf) - graf.radius() + 1"
   ]
  },
  {
   "cell_type": "code",
   "execution_count": 5,
   "metadata": {
    "collapsed": false
   },
   "outputs": [
   ],
   "source": [
    "def tournament_selection(populacija, t):\n",
    "    '''med t naključno izbranimi grafi izbere tistega z najmanšim fitnesom'''\n",
    "    velikost_populacije = len(populacija)\n",
    "    n = randint(0, velikost_populacije - 1)\n",
    "    najbolsi = populacija[n]\n",
    "    fitnes_najbolsi = fitness(najbolsi)\n",
    "    for i in range(1, t + 1):\n",
    "        n = randint(0, velikost_populacije - 1)\n",
    "        naslednji = populacija[n]\n",
    "        fitnes = fitness(naslednji)\n",
    "        if fitnes < fitnes_najbolsi:\n",
    "            najbolsi = naslednji\n",
    "            fitnes_najbolsi = fitnes\n",
    "    return najbolsi"
   ]
  },
  {
   "cell_type": "code",
   "execution_count": 4,
   "metadata": {
    "collapsed": false
   },
   "outputs": [
   ],
   "source": [
    "def poisson(t = 1, lambd = 1/2):\n",
    "    '''poissonova porazdelitev'''\n",
    "    N = 0\n",
    "    S = 0\n",
    "    while S < t:\n",
    "        N += 1\n",
    "        S += expovariate(lambd)\n",
    "    return N"
   ]
  },
  {
   "cell_type": "code",
   "execution_count": 4,
   "metadata": {
    "collapsed": false
   },
   "outputs": [
   ],
   "source": [
    "def mutation(graf):\n",
    "    '''mutira graf'''\n",
    "    kopija = graf\n",
    "    verjetnost = random()\n",
    "    plus_povezave = poisson(lambd = 1/2)\n",
    "    minus_povezave = poisson(lambd = 1/2)\n",
    "    if verjetnost <= 1/3:\n",
    "        for k in range(plus_povezave):\n",
    "            a, b = kopija.random_vertex(), kopija.random_vertex()\n",
    "            if a != b:\n",
    "                kopija.add_edge(a, b)\n",
    "    elif verjetnost > 1/3 and verjetnost <= 2/3:\n",
    "        for k in range(minus_povezave):\n",
    "            a, b = kopija.random_vertex(), kopija.random_vertex()\n",
    "            kopija.delete_edge(a, b)\n",
    "            if not kopija.is_connected():\n",
    "                kopija.add_edge(a, b)\n",
    "    elif verjetnost > 2/3:\n",
    "        for k in range(plus_povezave):\n",
    "            a, b = kopija.random_vertex(), kopija.random_vertex()\n",
    "            if a != b:\n",
    "                kopija.add_edge(a, b)\n",
    "        for k in range(minus_povezave):\n",
    "            a, b = kopija.random_vertex(), kopija.random_vertex()\n",
    "            kopija.delete_edge(a, b)\n",
    "            if not kopija.is_connected():\n",
    "                kopija.add_edge(a, b)\n",
    "    return kopija"
   ]
  },
  {
   "cell_type": "code",
   "execution_count": 3,
   "metadata": {
    "collapsed": false
   },
   "outputs": [
   ],
   "source": [
    "def crossover(a, b):\n",
    "    '''križa dva grafa med sabo'''\n",
    "    n = len(a)\n",
    "    while True:\n",
    "        podgraf_a = a.random_subgraph(0.5)\n",
    "        podgraf_b = b.random_subgraph(0.5)\n",
    "        if len(podgraf_a.vertices()) + len(podgraf_b.vertices()) == n and len(podgraf_a.vertices()) >= 1 and len(podgraf_a.vertices()) < n and podgraf_a.is_connected() and podgraf_b.is_connected():\n",
    "            podgraf_a.relabel()\n",
    "            podgraf_b.relabel()\n",
    "            potomec = podgraf_a.disjoint_union(podgraf_b)\n",
    "            nove_povezave = poisson(lambd = log(n/2))\n",
    "            for k in range(nove_povezave):\n",
    "                u = podgraf_a.random_vertex()\n",
    "                v = podgraf_b.random_vertex()\n",
    "                potomec.add_edge((0, u), (1, v))\n",
    "            potomec.relabel()\n",
    "            break\n",
    "    return potomec"
   ]
  },
  {
   "cell_type": "code",
   "execution_count": 11,
   "metadata": {
    "collapsed": false
   },
   "outputs": [
   ],
   "source": [
    "def zacetna_populacija(velikost, n):\n",
    "    '''naredi začetno populacijo kjer imajo grafi n vozlišč'''\n",
    "    populacija = []\n",
    "    trenutna_velikost = 0\n",
    "    while trenutna_velikost < velikost:\n",
    "        graf = graphs.RandomGNP(n, random())\n",
    "        if graf.is_connected():\n",
    "            populacija.append(graf)\n",
    "            trenutna_velikost += 1\n",
    "    return populacija"
   ]
  },
  {
   "cell_type": "code",
   "execution_count": 2,
   "metadata": {
    "collapsed": false
   },
   "outputs": [
   ],
   "source": [
    "def min_fitness(seznam):\n",
    "    '''v seznamu poišče graf z najmanšim fitnesom'''\n",
    "    najbolsi = seznam[0]\n",
    "    fitnes = fitness(najbolsi)\n",
    "    for graf in seznam:\n",
    "        fit = fitness(graf)\n",
    "        if fit < fitnes:\n",
    "            fitnes = fit\n",
    "            najbolsi = graf\n",
    "    return najbolsi"
   ]
  },
  {
   "cell_type": "code",
   "execution_count": 38,
   "metadata": {
    "collapsed": false
   },
   "outputs": [
   ],
   "source": [
    "def nova_populacija(populacija,t):\n",
    "    '''zgenerira z križanjem in mutacijo naredi novo populacijo'''\n",
    "    nova_populacija = []\n",
    "    velikost_nove = 0\n",
    "    velikost_stare = len(populacija)\n",
    "    while velikost_nove < velikost_stare:\n",
    "        graf1 = tournament_selection(populacija, t)\n",
    "        graf2 = tournament_selection(populacija, t)\n",
    "        copy1 = graf1\n",
    "        copy2 = graf2\n",
    "        mutacija1 = mutation(graf1)\n",
    "        mutacija2 = mutation(graf2)\n",
    "        krizan_graf = crossover(mutacija1, mutacija2)\n",
    "        hibrid = mutation(crossover(graf1, graf2))\n",
    "        optimalen_graf = min_fitness([krizan_graf, hibrid, mutacija1, mutacija2, copy1, copy2])\n",
    "        nova_populacija.append(optimalen_graf)\n",
    "        velikost_nove += 1\n",
    "    return nova_populacija"
   ]
  },
  {
   "cell_type": "code",
   "execution_count": 1,
   "metadata": {
    "collapsed": false
   },
   "outputs": [
   ],
   "source": [
    "def genetic_algorithm(n, k, cas_izvajanja, t=4):\n",
    "    populacija = zacetna_populacija(n, k)\n",
    "    for i in range(cas_izvajanja):\n",
    "        for graf in populacija:\n",
    "            fitnes = fitness(graf)\n",
    "            print(round(fitnes, 0))\n",
    "            if fitnes < 0:\n",
    "                return graf\n",
    "        populacija = nova_populacija(populacija,t)\n",
    "    return True"
   ]
  },
  {
   "cell_type": "code",
   "execution_count": 39,
   "metadata": {
    "collapsed": false,
    "scrolled": true
   },
   "outputs": [
    {
     "name": "stdout",
     "output_type": "stream",
     "text": [
      "6\n",
      "6\n",
      "7\n",
      "7\n",
      "7\n",
      "6\n",
      "6\n",
      "7\n"
     ]
    },
    {
     "name": "stdout",
     "output_type": "stream",
     "text": [
      "6\n",
      "5\n",
      "6\n",
      "7\n",
      "5\n"
     ]
    },
    {
     "name": "stdout",
     "output_type": "stream",
     "text": [
      "5\n",
      "4\n",
      "5\n",
      "4\n",
      "4\n",
      "4\n",
      "4\n",
      "5\n",
      "5\n",
      "4\n",
      "4\n",
      "4\n",
      "5\n"
     ]
    },
    {
     "name": "stdout",
     "output_type": "stream",
     "text": [
      "5\n",
      "3\n",
      "5\n",
      "4\n",
      "5\n",
      "4\n",
      "3\n",
      "5\n",
      "3\n",
      "4\n",
      "4\n",
      "5\n",
      "3\n"
     ]
    },
    {
     "name": "stdout",
     "output_type": "stream",
     "text": [
      "4\n",
      "4\n",
      "3\n",
      "4\n",
      "2\n",
      "2\n",
      "3\n",
      "4\n",
      "4\n",
      "4\n",
      "5\n",
      "4\n",
      "4\n"
     ]
    },
    {
     "name": "stdout",
     "output_type": "stream",
     "text": [
      "4\n",
      "4\n",
      "4\n",
      "4\n",
      "2\n",
      "4\n",
      "3\n",
      "3\n",
      "4\n",
      "2\n",
      "4\n",
      "4\n",
      "3\n"
     ]
    },
    {
     "name": "stdout",
     "output_type": "stream",
     "text": [
      "4\n",
      "4\n",
      "4\n",
      "4\n",
      "2\n",
      "5\n",
      "3\n",
      "4\n",
      "4\n",
      "4\n",
      "4\n",
      "3\n",
      "4\n"
     ]
    },
    {
     "name": "stdout",
     "output_type": "stream",
     "text": [
      "5\n",
      "5\n",
      "3\n",
      "5\n",
      "5\n",
      "4\n",
      "3\n",
      "2\n",
      "4\n",
      "4\n",
      "4\n",
      "4\n",
      "4\n"
     ]
    },
    {
     "name": "stdout",
     "output_type": "stream",
     "text": [
      "5\n",
      "5\n",
      "5\n",
      "4\n",
      "4\n",
      "5\n",
      "2\n",
      "5\n",
      "3\n",
      "4\n",
      "5\n",
      "5\n",
      "4\n"
     ]
    },
    {
     "name": "stdout",
     "output_type": "stream",
     "text": [
      "5\n",
      "4\n",
      "5\n",
      "5\n",
      "4\n",
      "4\n",
      "4\n",
      "4\n",
      "3\n",
      "3\n",
      "4\n",
      "4\n",
      "2\n"
     ]
    }
   ],
   "source": [
    "genetic_algorithm(13, 15, 40, 10)"
   ]
  },
  {
   "cell_type": "code",
   "execution_count": 0,
   "metadata": {
    "collapsed": false
   },
   "outputs": [
   ],
   "source": [
   ]
  }
 ],
 "metadata": {
  "kernelspec": {
   "display_name": "SageMath (stable)",
   "language": "sagemath",
   "name": "sagemath"
  },
  "language_info": {
   "codemirror_mode": {
    "name": "ipython",
    "version": 2
   },
   "file_extension": ".py",
   "mimetype": "text/x-python",
   "name": "python",
   "nbconvert_exporter": "python",
   "pygments_lexer": "ipython2",
   "version": "2.7.15"
  }
 },
 "nbformat": 4,
 "nbformat_minor": 0
}