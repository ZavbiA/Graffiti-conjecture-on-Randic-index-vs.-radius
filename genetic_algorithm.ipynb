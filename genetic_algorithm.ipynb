{
 "cells": [
  {
   "cell_type": "markdown",
   "metadata": {
    "collapsed": false
   },
   "source": [
    "## Genetski algoritem"
   ]
  },
  {
   "cell_type": "markdown",
   "metadata": {
    "collapsed": false
   },
   "source": [
    "Z genetskim algoritmom želiva ovreči spodnjo neenakost."
   ]
  },
  {
   "cell_type": "markdown",
   "metadata": {
    "collapsed": false
   },
   "source": [
    "$ Ra(G) \\geq rad(G) -1$"
   ]
  },
  {
   "cell_type": "code",
   "execution_count": 2,
   "metadata": {
    "collapsed": false
   },
   "outputs": [
   ],
   "source": [
    "def randic(graf):\n",
    "    '''vrne randicev indeks za podan graf'''\n",
    "    vsota = 0\n",
    "    povezave = graf.edges()\n",
    "    stopnje = graf.degree()\n",
    "    for edge in povezave:\n",
    "        u, v,_ = edge\n",
    "        d_u = stopnje[u]\n",
    "        d_v = stopnje[v]\n",
    "        vsota += 1/((d_u * d_v)**(1/2))\n",
    "    return(vsota)"
   ]
  },
  {
   "cell_type": "code",
   "execution_count": 3,
   "metadata": {
    "collapsed": false
   },
   "outputs": [
   ],
   "source": [
    "def fitness(graf):\n",
    "    '''Vrne vrednost naše neenakosti. Če je vrednost negativna, lema ne drži.'''\n",
    "    return randic(graf) - graf.radius() + 1"
   ]
  },
  {
   "cell_type": "code",
   "execution_count": 4,
   "metadata": {
    "collapsed": false
   },
   "outputs": [
   ],
   "source": [
    "def fitness_populacije(populacija):\n",
    "    '''naredi seznam naborov oblike (graf, njegov fitnes)'''\n",
    "    seznam = []\n",
    "    for graf in populacija:\n",
    "        fitnes = fitness(graf)\n",
    "        seznam.append((graf, fitnes))\n",
    "    return seznam"
   ]
  },
  {
   "cell_type": "code",
   "execution_count": 5,
   "metadata": {
    "collapsed": false
   },
   "outputs": [
   ],
   "source": [
    "def tournament_selection(populacija, t):\n",
    "    '''med t naključno izbranimi grafi izbere tistega z najmanjšim fitnessom'''\n",
    "    velikost_populacije = len(populacija)\n",
    "    n = randint(0, velikost_populacije - 1)\n",
    "    najbolsi, fitnes_najbolsi = populacija[n]\n",
    "    for i in range(1, t):\n",
    "        n = randint(0, velikost_populacije - 1)\n",
    "        izbrani, fitnes = populacija[n]\n",
    "        if fitnes < fitnes_najbolsi:\n",
    "            najbolsi = izbrani\n",
    "            fitnes_najbolsi = fitnes\n",
    "    return (najbolsi, fitnes_najbolsi)"
   ]
  },
  {
   "cell_type": "markdown",
   "metadata": {
    "collapsed": false
   },
   "source": [
    "S poissonom bomo izbirali število povezav, ki jih bomo v funkciji mutiraj odstranili oziroma dodali. V funkciji crossover nam pove, koliko povezav bomo dodali potomcu."
   ]
  },
  {
   "cell_type": "code",
   "execution_count": 6,
   "metadata": {
    "collapsed": false
   },
   "outputs": [
   ],
   "source": [
    "def poisson(t = 1, lambd = 1/2):\n",
    "    '''poissonova porazdelitev'''\n",
    "    N = 0\n",
    "    S = 0\n",
    "    while S < t:\n",
    "        N += 1\n",
    "        S += expovariate(lambd)\n",
    "    return N"
   ]
  },
  {
   "cell_type": "code",
   "execution_count": 8,
   "metadata": {
    "collapsed": false
   },
   "outputs": [
   ],
   "source": [
    "def mutiraj(graf):\n",
    "    '''Funkcija mutira graf. Z verjetnostjo p = 1/3 doda povezavo, z p = 1/3 odstrani povezavo in z p = 1/3 doda in odstrani povezavo.'''\n",
    "    kopija = Graph(graf)\n",
    "    verjetnost = random()\n",
    "    plus_povezave = poisson(lambd = 2) # max število povezav, ki jih bomo dodali\n",
    "    minus_povezave = poisson(lambd = 2) # max število povezav, ki jih bomo odstranili\n",
    "    if verjetnost <= 1/3:\n",
    "        for k in range(plus_povezave):\n",
    "            u, v = kopija.random_vertex(), kopija.random_vertex()\n",
    "            if u != v:\n",
    "                kopija.add_edge(u, v)\n",
    "        return kopija\n",
    "    elif verjetnost > 1/3 and verjetnost <= 2/3:\n",
    "        for k in range(minus_povezave):\n",
    "            povezava = kopija.random_edge()\n",
    "            kopija.delete_edge(povezava)\n",
    "            if not kopija.is_connected(): # če graf ni več povezan, ko odstranimo povezavo, jo moramo dodati nazaj\n",
    "                kopija.add_edge(povezava)\n",
    "        return kopija\n",
    "    elif verjetnost > 2/3:\n",
    "        for k in range(plus_povezave):\n",
    "            u, v = kopija.random_vertex(), kopija.random_vertex()\n",
    "            if u != v:\n",
    "                kopija.add_edge(u, v)\n",
    "        for k in range(minus_povezave):\n",
    "            povezava = kopija.random_edge()\n",
    "            kopija.delete_edge(povezava)\n",
    "            if not kopija.is_connected():\n",
    "                kopija.add_edge(povezava)\n",
    "        return kopija"
   ]
  },
  {
   "cell_type": "code",
   "execution_count": 9,
   "metadata": {
    "collapsed": false
   },
   "outputs": [
   ],
   "source": [
    "def crossover(a, b):\n",
    "    '''Križa dva grafa med sabo in vrne njunega potomca.'''\n",
    "    n = len(a)\n",
    "    while True:\n",
    "        podgraf_a = a.random_subgraph(0.5) # vrne podgraf grafa a, kjer je vsako vozlišče vsebovano z verjetnostjo 1/2\n",
    "        podgraf_b = b.random_subgraph(0.5) # vrne podgraf grafa b, kjer je vsako vozlišče vsebovano z verjetnostjo 1/2\n",
    "        if len(podgraf_a.vertices()) + len(podgraf_b.vertices()) == n and len(podgraf_a.vertices()) >= 1 and len(podgraf_a.vertices()) < n and podgraf_a.is_connected() and podgraf_b.is_connected():\n",
    "            # z zgornjim pogojem želimo da sta oba podgraf povezana in da imata skupaj n vozlišč in da ni en podgraf prazen drugi pa ima n vozlišč\n",
    "            podgraf_a.relabel()\n",
    "            podgraf_b.relabel()\n",
    "            potomec = podgraf_a.disjoint_union(podgraf_b) # povezave, ki niso skupne med grafoma\n",
    "            nove_povezave = poisson(lambd = log(n/2)) # večji kot je n, več povezav bomo dodal\n",
    "            for k in range(nove_povezave):\n",
    "                u, v = podgraf_a.random_vertex(), podgraf_b.random_vertex()\n",
    "                potomec.add_edge((0, u), (1, v))\n",
    "            potomec.relabel()\n",
    "            break\n",
    "    return potomec"
   ]
  },
  {
   "cell_type": "code",
   "execution_count": 10,
   "metadata": {
    "collapsed": false
   },
   "outputs": [
   ],
   "source": [
    "def zacetna_populacija(velikost, n):\n",
    "    '''Naredi začetno populacijo, kjer imajo grafi n vozlišč.'''\n",
    "    populacija = []\n",
    "    trenutna_velikost = 0\n",
    "    while trenutna_velikost < velikost:\n",
    "        graf = graphs.RandomGNP(n, random()) # Naredi nek naključen graf z n vozlišči. Vsaka povezava je v grafu z neko naključno verjetnostjo.\n",
    "        if graf.is_connected():\n",
    "            populacija.append(graf)\n",
    "            trenutna_velikost += 1\n",
    "    return populacija"
   ]
  },
  {
   "cell_type": "code",
   "execution_count": 11,
   "metadata": {
    "collapsed": false
   },
   "outputs": [
   ],
   "source": [
    "def min_fitness(seznam):\n",
    "    '''v seznamu grafov poišče graf z najmanjšim fitnessom'''\n",
    "    najbolsi, najbolsi_fitnes = seznam[0]\n",
    "    for nabor in seznam[1:]:\n",
    "        graf, fitnes = nabor\n",
    "        if fitnes < najbolsi_fitnes:\n",
    "            najbolsi_fitnes = fitnes\n",
    "            najbolsi = graf\n",
    "    return (najbolsi, najbolsi_fitnes)"
   ]
  },
  {
   "cell_type": "code",
   "execution_count": 12,
   "metadata": {
    "collapsed": false
   },
   "outputs": [
   ],
   "source": [
    "def nova_populacija(populacija,t):\n",
    "    '''S križanjem in mutacijo grafov iz podane populacije naredi novo populacijo.'''\n",
    "    nova_populacija = []\n",
    "    trenutna_velikost = 0\n",
    "    velikost_stare = len(populacija)\n",
    "    while trenutna_velikost < velikost_stare:\n",
    "        graf1 = tournament_selection(populacija, t)\n",
    "        graf2 = tournament_selection(populacija, t)\n",
    "        mutacija1 = mutiraj(graf1[0])\n",
    "        mutacija2 = mutiraj(graf2[0])\n",
    "        fit_mut1 = fitness(mutacija1)\n",
    "        fit_mut2 = fitness(mutacija2)\n",
    "        krizan_graf = crossover(mutacija1, mutacija2)\n",
    "        fit_kriz = fitness(krizan_graf)\n",
    "        minimum = min_fitness([(krizan_graf, fit_kriz), (mutacija1, fit_mut1), (mutacija2, fit_mut2), graf1, graf2])\n",
    "        nova_populacija.append(minimum)\n",
    "        trenutna_velikost += 1\n",
    "    return nova_populacija"
   ]
  },
  {
   "cell_type": "code",
   "execution_count": 15,
   "metadata": {
    "collapsed": false
   },
   "outputs": [
   ],
   "source": [
    "def genetic_algorithm(n, k, cas_izvajanja, t=4):\n",
    "    '''funkcija v vsaki ponovitvi naredi novo populacijo z križanjem in mutiranjem'''\n",
    "    populacija = zacetna_populacija(n, k)\n",
    "    populacija = fitness_populacije(populacija)\n",
    "    for i in range(cas_izvajanja):\n",
    "        for nabor in populacija:\n",
    "            graf, fitnes = nabor\n",
    "            print(round(fitnes, 0))\n",
    "            if fitnes < 0:\n",
    "                print('Lema ne drži!')\n",
    "                return graf\n",
    "        populacija = nova_populacija(populacija,t)\n",
    "    return 'Ne najdem protiprimera.'\n",
    "    #return populacija"
   ]
  },
  {
   "cell_type": "code",
   "execution_count": 14,
   "metadata": {
    "collapsed": false
   },
   "outputs": [
    {
     "name": "stdout",
     "output_type": "stream",
     "text": [
      "4\n"
     ]
    },
    {
     "name": "stdout",
     "output_type": "stream",
     "text": [
      "5\n",
      "4\n",
      "5\n",
      "5\n",
      "4\n",
      "4\n",
      "5\n",
      "4\n",
      "4\n",
      "4\n",
      "4\n",
      "4\n",
      "4\n",
      "4\n",
      "4\n",
      "5\n",
      "4\n",
      "4\n",
      "5\n",
      "5\n",
      "5\n",
      "5\n",
      "4\n",
      "3\n",
      "4\n",
      "4\n",
      "4\n",
      "4\n",
      "4\n",
      "4\n"
     ]
    },
    {
     "name": "stdout",
     "output_type": "stream",
     "text": [
      "5\n",
      "4\n",
      "4\n",
      "5\n",
      "3\n",
      "4\n",
      "4\n",
      "3\n",
      "4\n",
      "5\n",
      "5\n",
      "4\n",
      "5\n",
      "4\n",
      "5\n",
      "3\n",
      "4\n",
      "4\n",
      "4\n",
      "4\n",
      "4\n",
      "5\n",
      "4\n"
     ]
    },
    {
     "name": "stdout",
     "output_type": "stream",
     "text": [
      "4\n",
      "4\n",
      "4\n",
      "4\n",
      "5\n",
      "5\n",
      "5\n",
      "4\n",
      "4\n",
      "4\n",
      "4\n",
      "3\n",
      "4\n",
      "5\n",
      "4\n",
      "5\n",
      "4\n",
      "4\n"
     ]
    },
    {
     "name": "stdout",
     "output_type": "stream",
     "text": [
      "4\n",
      "4\n",
      "5\n",
      "4\n",
      "3\n",
      "4\n",
      "4\n",
      "4\n",
      "5\n",
      "4\n",
      "4\n",
      "4\n",
      "4\n",
      "4\n",
      "4\n",
      "4\n",
      "4\n",
      "4\n",
      "5\n",
      "5\n"
     ]
    },
    {
     "name": "stdout",
     "output_type": "stream",
     "text": [
      "4\n",
      "4\n",
      "4\n",
      "5\n",
      "4\n",
      "4\n",
      "4\n",
      "4\n"
     ]
    },
    {
     "name": "stdout",
     "output_type": "stream",
     "text": [
      "Ne najdem protiprimera.\n"
     ]
    },
    {
     "data": {
      "text/plain": [
       "[(Subgraph of (RandomGNP(10,0.433922701504)) disjoint_union Subgraph of (RandomGNP(10,0.649997801667)): Graph on 10 vertices,\n",
       "  1/6*sqrt(6) + 5/6*sqrt(3) + 3/4*sqrt(2)),\n",
       " (Subgraph of (RandomGNP(10,0.541989021953)) disjoint_union Subgraph of (RandomGNP(10,0.541989021953)): Graph on 10 vertices,\n",
       "  4/15*sqrt(15) + 1/12*sqrt(6) + 1/10*sqrt(5) + 2/3*sqrt(3) + 5/6*sqrt(2)),\n",
       " (Subgraph of (RandomGNP(10,0.692348642088)) disjoint_union Subgraph of (RandomGNP(10,0.39169196159)): Graph on 10 vertices,\n",
       "  2/3*sqrt(6) + 1/3*sqrt(3) + 5/4*sqrt(2) - 5/4),\n",
       " (Subgraph of (RandomGNP(10,0.653986550873)) disjoint_union Subgraph of (RandomGNP(10,0.574976003109)): Graph on 10 vertices,\n",
       "  2/3*sqrt(6) + 2/3*sqrt(3) + 2/3*sqrt(2)),\n",
       " (Subgraph of (RandomGNP(10,0.440291466168)) disjoint_union Subgraph of (RandomGNP(10,0.435770662919)): Graph on 10 vertices,\n",
       "  1/6*sqrt(6) + 5/6*sqrt(3) + 3/4*sqrt(2) - 1/12),\n",
       " (RandomGNP(10,0.435770662919): Graph on 10 vertices,\n",
       "  2/15*sqrt(15) + 3/10*sqrt(10) + 1/2*sqrt(6) + 2/5*sqrt(5) + 1/4*sqrt(2) - 1/4),\n",
       " (Subgraph of (RandomGNP(10,0.502703117141)) disjoint_union Subgraph of (RandomGNP(10,0.582635050317)): Graph on 10 vertices,\n",
       "  2/15*sqrt(15) + 1/5*sqrt(10) + 1/3*sqrt(6) + 1/10*sqrt(5) + 1/2*sqrt(3) + 1/2*sqrt(2) - 1),\n",
       " (Subgraph of (RandomGNP(10,0.296106135004)) disjoint_union Subgraph of (RandomGNP(10,0.62519336981)): Graph on 10 vertices,\n",
       "  2*sqrt(2) - 1),\n",
       " (Subgraph of (RandomGNP(10,0.739710637513)) disjoint_union Subgraph of (RandomGNP(10,0.636144181064)): Graph on 10 vertices,\n",
       "  4/15*sqrt(15) + 1/10*sqrt(10) + 1/6*sqrt(6) + 3/10*sqrt(5) + 1/2*sqrt(3) + 1/2*sqrt(2) - 2/15),\n",
       " (RandomGNP(10,0.294981243469): Graph on 10 vertices, sqrt(2) + 1),\n",
       " (Subgraph of (RandomGNP(10,0.649997801667)) disjoint_union Subgraph of (RandomGNP(10,0.267168050841)): Graph on 10 vertices,\n",
       "  2/3*sqrt(6) + 2/3*sqrt(3) + 1/2*sqrt(2) - 7/12),\n",
       " (Subgraph of (RandomGNP(10,0.298628213113)) disjoint_union Subgraph of (RandomGNP(10,0.404957115736)): Graph on 10 vertices,\n",
       "  1/15*sqrt(15) + 3/5*sqrt(10) + 1/6*sqrt(6) + 1/5*sqrt(5) + 1/3*sqrt(3) + 1/2*sqrt(2) - 9/5),\n",
       " (Subgraph of (RandomGNP(10,0.449321643515)) disjoint_union Subgraph of (RandomGNP(10,0.429030450524)): Graph on 10 vertices,\n",
       "  sqrt(6) + sqrt(3) - 5/2),\n",
       " (Subgraph of (RandomGNP(10,0.502703117141)) disjoint_union Subgraph of (RandomGNP(10,0.283394059565)): Graph on 10 vertices,\n",
       "  1/2*sqrt(6) + 1/2*sqrt(2)),\n",
       " (Subgraph of (RandomGNP(10,0.799965506404)) disjoint_union Subgraph of (RandomGNP(10,0.509976499898)): Graph on 10 vertices,\n",
       "  1/6*sqrt(6) + 3/2*sqrt(3) + 1/4*sqrt(2) - 5/12),\n",
       " (Subgraph of (RandomGNP(10,0.283394059565)) disjoint_union Subgraph of (RandomGNP(10,0.872885012503)): Graph on 10 vertices,\n",
       "  1/3*sqrt(6) + 1/3*sqrt(3) + 5/4*sqrt(2) - 5/12),\n",
       " (Subgraph of (RandomGNP(10,0.39169196159)) disjoint_union Subgraph of (RandomGNP(10,0.509976499898)): Graph on 10 vertices,\n",
       "  1/6*sqrt(6) + sqrt(3) + 3/4*sqrt(2) - 2/3),\n",
       " (Subgraph of (RandomGNP(10,0.666473228945)) disjoint_union Subgraph of (RandomGNP(10,0.191650831534)): Graph on 10 vertices,\n",
       "  2/3*sqrt(6) + 2/3*sqrt(3) - 1),\n",
       " (Subgraph of (RandomGNP(10,0.354669792742)) disjoint_union Subgraph of (RandomGNP(10,0.549094299192)): Graph on 10 vertices,\n",
       "  1/2*sqrt(6) + sqrt(3) + sqrt(2) - 5/3),\n",
       " (RandomGNP(10,0.113534223845): Graph on 10 vertices,\n",
       "  5/6*sqrt(6) + 7/6*sqrt(3) + 1/4*sqrt(2) - 5/3),\n",
       " (Subgraph of (RandomGNP(10,0.552386626145)) disjoint_union Subgraph of (RandomGNP(10,0.695810254503)): Graph on 10 vertices,\n",
       "  4/15*sqrt(15) + 1/10*sqrt(10) + 1/2*sqrt(6) + 2/3*sqrt(3) - 1),\n",
       " (Subgraph of (RandomGNP(10,0.554271716749)) disjoint_union Subgraph of (RandomGNP(10,0.329443728491)): Graph on 10 vertices,\n",
       "  1/2*sqrt(6) + 1/2*sqrt(3) + 3/4*sqrt(2) - 1/4),\n",
       " (RandomGNP(10,0.440291466168): Graph on 10 vertices,\n",
       "  1/30*sqrt(30) + 2/15*sqrt(15) + 5/12*sqrt(6) + 1/5*sqrt(5) + 5/6*sqrt(3) + 1/6*sqrt(2) - 1/12),\n",
       " (RandomGNP(10,0.540060503286): Graph on 10 vertices,\n",
       "  2/3*sqrt(6) + 1/2*sqrt(3) + 2/3*sqrt(2) + 1/6),\n",
       " (Subgraph of (RandomGNP(10,0.4965872642)) disjoint_union Subgraph of (RandomGNP(10,0.603350471961)): Graph on 10 vertices,\n",
       "  1/3*sqrt(6) + 1/6*sqrt(3) + 7/4*sqrt(2) - 3/4),\n",
       " (RandomGNP(10,0.191650831534): Graph on 10 vertices, 9/4*sqrt(2) - 1/2),\n",
       " (Subgraph of (RandomGNP(10,0.440291466168)) disjoint_union Subgraph of (RandomGNP(10,0.347902846875)): Graph on 10 vertices,\n",
       "  1/3*sqrt(6) + 1/3*sqrt(3) + 1/2*sqrt(2) - 1/6),\n",
       " (Subgraph of (RandomGNP(10,0.267168050841)) disjoint_union Subgraph of (RandomGNP(10,0.582635050317)): Graph on 10 vertices,\n",
       "  1/15*sqrt(15) + 1/6*sqrt(6) + 1/2*sqrt(5) + 5/6*sqrt(3) + 1/2*sqrt(2) - 7/6),\n",
       " (Subgraph of (RandomGNP(10,0.624897078235)) disjoint_union Subgraph of (RandomGNP(10,0.554271716749)): Graph on 10 vertices,\n",
       "  1/15*sqrt(15) + 3/10*sqrt(10) + 1/3*sqrt(6) + 1/5*sqrt(5) + 1/3*sqrt(3) + 1/2*sqrt(2) - 7/6),\n",
       " (RandomGNP(10,0.502703117141): Graph on 10 vertices,\n",
       "  1/15*sqrt(30) + 1/5*sqrt(15) + 3/10*sqrt(10) + 1/12*sqrt(6) + 1/5*sqrt(5) + 1/3*sqrt(3) + 1/3*sqrt(2)),\n",
       " (RandomGNP(10,0.283394059565): Graph on 10 vertices,\n",
       "  1/6*sqrt(6) + sqrt(3) + 1/4*sqrt(2) + 1/4),\n",
       " (RandomGNP(10,0.359160833668): Graph on 10 vertices,\n",
       "  1/30*sqrt(30) + 5/12*sqrt(6) + 1/2*sqrt(5) + 1/2*sqrt(3) + 7/12*sqrt(2) - 1/4),\n",
       " (RandomGNP(10,0.433922701504): Graph on 10 vertices,\n",
       "  1/6*sqrt(6) + 1/3*sqrt(3) + 7/4*sqrt(2) - 3/4),\n",
       " (Subgraph of (RandomGNP(10,0.557727686447)) disjoint_union Subgraph of (RandomGNP(10,0.377678875644)): Graph on 10 vertices,\n",
       "  5/6*sqrt(6) + 1/3*sqrt(3) + 1/2*sqrt(2) - 3/2),\n",
       " (Subgraph of (RandomGNP(10,0.719057589129)) disjoint_union Subgraph of (RandomGNP(10,0.429030450524)): Graph on 10 vertices,\n",
       "  7/30*sqrt(30) + 7/12*sqrt(6) + 1/10*sqrt(5) + 1/3*sqrt(3) + 1/30),\n",
       " (Subgraph of (RandomGNP(10,0.532483898801)) disjoint_union Subgraph of (RandomGNP(10,0.536163392382)): Graph on 10 vertices,\n",
       "  1/30*sqrt(30) + 1/5*sqrt(15) + 1/10*sqrt(10) + 1/3*sqrt(6) + 1/6*sqrt(3) + sqrt(2) - 7/6),\n",
       " (RandomGNP(10,0.313681757856): Graph on 10 vertices,\n",
       "  1/6*sqrt(6) + 1/3*sqrt(3) + 3/4*sqrt(2) + 3/4),\n",
       " (RandomGNP(10,0.272153178175): Graph on 10 vertices,\n",
       "  sqrt(3) + 5/4*sqrt(2) - 11/12),\n",
       " (RandomGNP(10,0.363308683569): Graph on 10 vertices,\n",
       "  1/10*sqrt(30) + 1/15*sqrt(15) + 1/6*sqrt(6) + 9/10*sqrt(5) + 1/6*sqrt(3) + 1/6*sqrt(2) - 1/10),\n",
       " (RandomGNP(10,0.656398236323): Graph on 10 vertices,\n",
       "  1/42*sqrt(42) + 2/35*sqrt(35) + 1/10*sqrt(30) + 1/21*sqrt(21) + 1/14*sqrt(14) + 1/5*sqrt(10) + 1/14*sqrt(7) + 1/3*sqrt(6) + 1/10*sqrt(5) + 1/3*sqrt(3) + 13/24*sqrt(2) - 7/8),\n",
       " (RandomGNP(10,0.404957115736): Graph on 10 vertices,\n",
       "  1/30*sqrt(30) + 1/5*sqrt(10) + 1/6*sqrt(6) + 1/5*sqrt(5) + 2/3*sqrt(3) + 7/6*sqrt(2) - 3/4),\n",
       " (RandomGNP(10,0.191650831534): Graph on 10 vertices, 9/4*sqrt(2) - 1/2),\n",
       " (RandomGNP(10,0.811393442177): Graph on 10 vertices,\n",
       "  3/14*sqrt(14) + 1/4*sqrt(10) + 1/14*sqrt(7) + 7/8*sqrt(2) + 7/8),\n",
       " (Subgraph of (RandomGNP(10,0.541989021953)) disjoint_union Subgraph of (RandomGNP(10,0.941796242134)): Graph on 10 vertices,\n",
       "  sqrt(3) + 7/6),\n",
       " (Subgraph of (RandomGNP(10,0.431835073391)) disjoint_union Subgraph of (RandomGNP(10,0.440291466168)): Graph on 10 vertices,\n",
       "  1/6*sqrt(6) + 2/3*sqrt(3) + 1/4*sqrt(2) + 5/6),\n",
       " (Subgraph of (RandomGNP(10,0.653986550873)) disjoint_union Subgraph of (RandomGNP(10,0.858172128976)): Graph on 10 vertices,\n",
       "  4/15*sqrt(15) + 2/5*sqrt(5) + 2/3*sqrt(3) - 13/60),\n",
       " (Subgraph of (RandomGNP(10,0.711082868757)) disjoint_union Subgraph of (RandomGNP(10,0.404957115736)): Graph on 10 vertices,\n",
       "  2/15*sqrt(15) + 1/5*sqrt(10) + 1/3*sqrt(6) + 1/5*sqrt(5) + 4/3),\n",
       " (Subgraph of (RandomGNP(10,0.557727686447)) disjoint_union Subgraph of (RandomGNP(10,0.453193708562)): Graph on 10 vertices,\n",
       "  1/3*sqrt(6) + 5/6*sqrt(3) + 3/4*sqrt(2) - 1/2),\n",
       " (Subgraph of (RandomGNP(10,0.432513301861)) disjoint_union Subgraph of (RandomGNP(10,0.872885012503)): Graph on 10 vertices,\n",
       "  2/5*sqrt(15) + 1/5*sqrt(10) + 1/3*sqrt(6) - 2/15),\n",
       " (Subgraph of (RandomGNP(10,0.524693803432)) disjoint_union Subgraph of (RandomGNP(10,0.431835073391)): Graph on 10 vertices,\n",
       "  7/6*sqrt(6) + 1/3*sqrt(3) + 1/2*sqrt(2) - 4/3),\n",
       " (Subgraph of (RandomGNP(10,0.811393442177)) disjoint_union Subgraph of (RandomGNP(10,0.811393442177)): Graph on 10 vertices,\n",
       "  2/15*sqrt(30) + 2/15*sqrt(15) + 1/4*sqrt(6) + 3/10*sqrt(5) + 1/3*sqrt(3) + 1/2*sqrt(2) + 1/10),\n",
       " (Subgraph of (RandomGNP(10,0.540060503286)) disjoint_union Subgraph of (RandomGNP(10,0.354460002982)): Graph on 10 vertices,\n",
       "  1/2*sqrt(6) + 2/3*sqrt(3) + 3/2*sqrt(2) - 5/3),\n",
       " (Subgraph of (RandomGNP(10,0.453193708562)) disjoint_union Subgraph of (RandomGNP(10,0.248343528214)): Graph on 10 vertices,\n",
       "  1/6*sqrt(6) + 5/6*sqrt(3) + 3/4*sqrt(2) + 3/4),\n",
       " (Subgraph of (RandomGNP(10,0.503862159902)) disjoint_union Subgraph of (RandomGNP(10,0.62519336981)): Graph on 10 vertices,\n",
       "  1/3*sqrt(6) + 7/6*sqrt(3) - 1/12),\n",
       " (RandomGNP(10,0.294981243469): Graph on 10 vertices,\n",
       "  2/15*sqrt(15) + 1/5*sqrt(10) + 1/3*sqrt(6) + 1/5*sqrt(5) + 2/3*sqrt(3) + 1/2*sqrt(2) - 5/3),\n",
       " (RandomGNP(10,0.536163392382): Graph on 10 vertices,\n",
       "  1/5*sqrt(30) + 1/4*sqrt(10) + 1/12*sqrt(6) + 1/5*sqrt(5) + 1/3*sqrt(3) + 1/8*sqrt(2) + 7/15),\n",
       " (Subgraph of (RandomGNP(10,0.294541619317)) disjoint_union Subgraph of (RandomGNP(10,0.440291466168)): Graph on 10 vertices,\n",
       "  2/15*sqrt(15) + 1/5*sqrt(10) + 1/2*sqrt(6) + 1/5*sqrt(5) + 1/3*sqrt(3) + 1/2*sqrt(2) - 3/2),\n",
       " (Subgraph of (RandomGNP(10,0.509976499898)) disjoint_union Subgraph of (RandomGNP(10,0.39169196159)): Graph on 10 vertices,\n",
       "  1/5*sqrt(15) + 1/10*sqrt(10) + 1/2*sqrt(6) + 1/10*sqrt(5) + 1/2*sqrt(3) + 1/2*sqrt(2) - 4/3),\n",
       " (RandomGNP(10,0.267168050841): Graph on 10 vertices,\n",
       "  1/5*sqrt(15) + 1/10*sqrt(10) + 1/6*sqrt(6) + 1/10*sqrt(5) + 2/3*sqrt(3) + 1/2*sqrt(2) - 11/12),\n",
       " (RandomGNP(10,0.624897078235): Graph on 10 vertices,\n",
       "  1/10*sqrt(30) + 1/3*sqrt(6) + 1/5*sqrt(5) + 2/3*sqrt(3) + 5/6*sqrt(2) - 1/4),\n",
       " (RandomGNP(10,0.313681757856): Graph on 10 vertices,\n",
       "  5/6*sqrt(3) + 3/4*sqrt(2) + 1/12),\n",
       " (RandomGNP(10,0.191650831534): Graph on 10 vertices, 9/4*sqrt(2) - 1/2),\n",
       " (RandomGNP(10,0.363308683569): Graph on 10 vertices,\n",
       "  2/15*sqrt(30) + 1/6*sqrt(6) + 6/5*sqrt(5) - 3/20),\n",
       " (Subgraph of (RandomGNP(10,0.298628213113)) disjoint_union Subgraph of (RandomGNP(10,0.433922701504)): Graph on 10 vertices,\n",
       "  2/3*sqrt(6) + 2/3*sqrt(3) + 1/2*sqrt(2) - 1),\n",
       " (Subgraph of (RandomGNP(10,0.39169196159)) disjoint_union Subgraph of (RandomGNP(10,0.294541619317)): Graph on 10 vertices,\n",
       "  2/15*sqrt(15) + 1/3*sqrt(6) + 1/2*sqrt(5) + 2/3*sqrt(3) - 1/6),\n",
       " (RandomGNP(10,0.549094299192): Graph on 10 vertices,\n",
       "  1/10*sqrt(30) + 1/20*sqrt(10) + 7/12*sqrt(6) + 1/10*sqrt(5) + 5/12*sqrt(3) + 1/2*sqrt(2) - 1/6),\n",
       " (RandomGNP(10,0.435770662919): Graph on 10 vertices,\n",
       "  2/15*sqrt(15) + 3/10*sqrt(10) + 1/2*sqrt(6) + 2/5*sqrt(5) + 1/4*sqrt(2) - 1/4),\n",
       " (Subgraph of (RandomGNP(10,0.388582101041)) disjoint_union Subgraph of (RandomGNP(10,0.695810254503)): Graph on 10 vertices,\n",
       "  1/2*sqrt(6) + 7/6*sqrt(3) + 1/4*sqrt(2) - 5/6),\n",
       " (Subgraph of (RandomGNP(10,0.582635050317)) disjoint_union Subgraph of (RandomGNP(10,0.453193708562)): Graph on 10 vertices,\n",
       "  1/3*sqrt(6) + 1/6*sqrt(3) + 3/2*sqrt(2) - 1/2),\n",
       " (RandomGNP(10,0.248343528214): Graph on 10 vertices,\n",
       "  1/5*sqrt(15) + 1/3*sqrt(6) + 1/5*sqrt(5) + 1/2*sqrt(3) + 1/2*sqrt(2) + 1/6),\n",
       " (RandomGNP(10,0.191650831534): Graph on 10 vertices,\n",
       "  1/2*sqrt(6) + 3/2*sqrt(2) - 3/2),\n",
       " (RandomGNP(10,0.377678875644): Graph on 10 vertices,\n",
       "  1/15*sqrt(15) + 2/5*sqrt(10) + 1/6*sqrt(6) + 1/2*sqrt(5) + 1/3*sqrt(3) + 1/4*sqrt(2) - 2/5),\n",
       " (RandomGNP(10,0.433922701504): Graph on 10 vertices,\n",
       "  1/30*sqrt(30) + 1/15*sqrt(15) + 1/10*sqrt(10) + 1/4*sqrt(6) + 1/5*sqrt(5) + 5/6*sqrt(3) + 1/2*sqrt(2) - 1/4),\n",
       " (RandomGNP(10,0.191650831534): Graph on 10 vertices, 9/4*sqrt(2) - 1/2),\n",
       " (Subgraph of (RandomGNP(10,0.435770662919)) disjoint_union Subgraph of (RandomGNP(10,0.347481569035)): Graph on 10 vertices,\n",
       "  1/2*sqrt(6) + 5/6*sqrt(3) + 1/2*sqrt(2) - 2/3),\n",
       " (Subgraph of (RandomGNP(10,0.536163392382)) disjoint_union Subgraph of (RandomGNP(10,0.603350471961)): Graph on 10 vertices,\n",
       "  2/3*sqrt(6) + 2/3*sqrt(3) + 1/2*sqrt(2) - 2/3),\n",
       " (Subgraph of (RandomGNP(10,0.377678875644)) disjoint_union Subgraph of (RandomGNP(10,0.286318676669)): Graph on 10 vertices,\n",
       "  2/15*sqrt(15) + 2/5*sqrt(5) + 2/3*sqrt(3) + sqrt(2) - 5/12),\n",
       " (RandomGNP(10,0.435770662919): Graph on 10 vertices,\n",
       "  2/15*sqrt(15) + 3/10*sqrt(10) + 1/2*sqrt(6) + 2/5*sqrt(5) + 1/4*sqrt(2) - 1/4),\n",
       " (Subgraph of (RandomGNP(10,0.39169196159)) disjoint_union Subgraph of (RandomGNP(10,0.39169196159)): Graph on 10 vertices,\n",
       "  1/3*sqrt(6) + sqrt(3) + 1/2*sqrt(2) - 5/12),\n",
       " (Subgraph of (RandomGNP(10,0.283671009413)) disjoint_union Subgraph of (RandomGNP(10,0.503862159902)): Graph on 10 vertices,\n",
       "  1/5*sqrt(15) + 1/3*sqrt(6) + 4/5*sqrt(5) + 1/3*sqrt(3) - 7/15),\n",
       " (Subgraph of (RandomGNP(10,0.388582101041)) disjoint_union Subgraph of (RandomGNP(10,0.776433094359)): Graph on 10 vertices,\n",
       "  1/10*sqrt(10) + 1/3*sqrt(6) + 2/5*sqrt(5) + 2/3*sqrt(3) + 1/4*sqrt(2) + 1/4),\n",
       " (RandomGNP(10,0.347481569035): Graph on 10 vertices,\n",
       "  1/5*sqrt(15) + 1/2*sqrt(6) + 1/5*sqrt(5) + 2/3*sqrt(3) + 1/2*sqrt(2) - 17/12),\n",
       " (Subgraph of (RandomGNP(10,0.294541619317)) disjoint_union Subgraph of (RandomGNP(10,0.357813746059)): Graph on 10 vertices,\n",
       "  3/10*sqrt(10) + 3/10*sqrt(5) + 3/4*sqrt(2) + 3/4),\n",
       " (RandomGNP(10,0.536163392382): Graph on 10 vertices,\n",
       "  2/15*sqrt(30) + 3/10*sqrt(10) + 1/12*sqrt(6) + 1/5*sqrt(5) + 1/12*sqrt(3) + 3/8*sqrt(2) + 13/20),\n",
       " (Subgraph of (RandomGNP(10,0.294981243469)) disjoint_union Subgraph of (RandomGNP(10,0.440291466168)): Graph on 10 vertices,\n",
       "  sqrt(6) + 1/3*sqrt(3) - 1/6),\n",
       " (Subgraph of (RandomGNP(10,0.564038994961)) disjoint_union Subgraph of (RandomGNP(10,0.695810254503)): Graph on 10 vertices,\n",
       "  1/15*sqrt(30) + 1/10*sqrt(10) + 5/12*sqrt(6) + 1/5*sqrt(5) + 1/3*sqrt(3) + 1/3*sqrt(2) + 2/3),\n",
       " (Subgraph of (RandomGNP(10,0.377678875644)) disjoint_union Subgraph of (RandomGNP(10,0.624897078235)): Graph on 10 vertices,\n",
       "  1/15*sqrt(15) + 1/10*sqrt(10) + 1/6*sqrt(6) + 3/10*sqrt(5) + 5/6*sqrt(3) + 1/2*sqrt(2)),\n",
       " (Subgraph of (RandomGNP(10,0.524693803432)) disjoint_union Subgraph of (RandomGNP(10,0.913278734756)): Graph on 10 vertices,\n",
       "  1/2*sqrt(6) + 1/2*sqrt(3) + 3/4*sqrt(2) + 7/12),\n",
       " (Subgraph of (RandomGNP(10,0.377678875644)) disjoint_union Subgraph of (RandomGNP(10,0.354460002982)): Graph on 10 vertices,\n",
       "  1/3*sqrt(6) + sqrt(3) + sqrt(2) - 4/3),\n",
       " (RandomGNP(10,0.286318676669): Graph on 10 vertices,\n",
       "  1/10*sqrt(30) + 1/15*sqrt(15) + 7/12*sqrt(6) + 1/10*sqrt(5) + 1/3*sqrt(3) + 5/6*sqrt(2) - 5/12),\n",
       " (RandomGNP(10,0.191650831534): Graph on 10 vertices, 9/4*sqrt(2) - 1/2),\n",
       " (Subgraph of (RandomGNP(10,0.453193708562)) disjoint_union Subgraph of (RandomGNP(10,0.649997801667)): Graph on 10 vertices,\n",
       "  2/3*sqrt(6) + 1/2*sqrt(3) + 5/4*sqrt(2) - 3/2),\n",
       " (Subgraph of (RandomGNP(10,0.4965872642)) disjoint_union Subgraph of (RandomGNP(10,0.248343528214)): Graph on 10 vertices,\n",
       "  1/6*sqrt(6) + sqrt(3) + 1/2*sqrt(2) - 1/3),\n",
       " (Subgraph of (RandomGNP(10,0.388582101041)) disjoint_union Subgraph of (RandomGNP(10,0.294981243469)): Graph on 10 vertices,\n",
       "  1/2*sqrt(6) + 5/6*sqrt(3) + 1/4*sqrt(2) - 5/12),\n",
       " (Subgraph of (RandomGNP(10,0.574976003109)) disjoint_union Subgraph of (RandomGNP(10,0.502703117141)): Graph on 10 vertices,\n",
       "  1/5*sqrt(15) + 1/10*sqrt(10) + 1/2*sqrt(6) + 1/10*sqrt(5) + 1/3*sqrt(3) + 3/4*sqrt(2) - 4/3),\n",
       " (Subgraph of (RandomGNP(10,0.554271716749)) disjoint_union Subgraph of (RandomGNP(10,0.283394059565)): Graph on 10 vertices,\n",
       "  2/15*sqrt(15) + 1/10*sqrt(10) + 1/2*sqrt(6) + 3/10*sqrt(5) + 1/3*sqrt(3) + 3/4*sqrt(2) - 5/3),\n",
       " (RandomGNP(10,0.432513301861): Graph on 10 vertices,\n",
       "  1/3*sqrt(15) + 2/5*sqrt(5) + 1/6*sqrt(3) + 3/4*sqrt(2) + 1/5),\n",
       " (RandomGNP(10,0.549094299192): Graph on 10 vertices,\n",
       "  1/14*sqrt(42) + 1/7*sqrt(14) + 11/14*sqrt(7) + 1/4*sqrt(6) - 1/14),\n",
       " (Subgraph of (RandomGNP(10,0.377678875644)) disjoint_union Subgraph of (RandomGNP(10,0.313681757856)): Graph on 10 vertices,\n",
       "  1/6*sqrt(6) + sqrt(3) + sqrt(2) - 5/6),\n",
       " (Subgraph of (RandomGNP(10,0.536163392382)) disjoint_union Subgraph of (RandomGNP(10,0.283394059565)): Graph on 10 vertices,\n",
       "  1/15*sqrt(15) + 3/10*sqrt(10) + 1/10*sqrt(5) + 1/3*sqrt(3) + 3/2*sqrt(2) - 3/2)]"
      ]
     },
     "execution_count": 14,
     "metadata": {
     },
     "output_type": "execute_result"
    }
   ],
   "source": [
    "genetic_algorithm(100, 10, 1, 2)"
   ]
  },
  {
   "cell_type": "code",
   "execution_count": 0,
   "metadata": {
    "collapsed": false
   },
   "outputs": [
   ],
   "source": [
   ]
  }
 ],
 "metadata": {
  "kernelspec": {
   "display_name": "SageMath (stable)",
   "language": "sagemath",
   "name": "sagemath"
  },
  "language_info": {
   "codemirror_mode": {
    "name": "ipython",
    "version": 2
   },
   "file_extension": ".py",
   "mimetype": "text/x-python",
   "name": "python",
   "nbconvert_exporter": "python",
   "pygments_lexer": "ipython2",
   "version": "2.7.15"
  }
 },
 "nbformat": 4,
 "nbformat_minor": 0
}
