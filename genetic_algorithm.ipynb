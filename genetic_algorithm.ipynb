{
 "cells": [
  {
   "cell_type": "markdown",
   "metadata": {
    "collapsed": false
   },
   "source": [
    "## Genetski algoritem"
   ]
  },
  {
   "cell_type": "markdown",
   "metadata": {
    "collapsed": false
   },
   "source": [
    "Z genetskim algoritmom želiva ovreči spodnjo neenakost."
   ]
  },
  {
   "cell_type": "markdown",
   "metadata": {
    "collapsed": false
   },
   "source": [
    "$ Ra(G) \\geq rad(G) -1$"
   ]
  },
  {
   "cell_type": "code",
   "execution_count": 5,
   "metadata": {
    "collapsed": false
   },
   "outputs": [
   ],
   "source": [
    "def randic(graf):\n",
    "    '''Vrne randičev indeks za podan graf.'''\n",
    "    vsota = 0\n",
    "    povezave = graf.edges()\n",
    "    stopnje = graf.degree()\n",
    "    for edge in povezave:\n",
    "        u, v,_ = edge\n",
    "        d_u = stopnje[u]\n",
    "        d_v = stopnje[v]\n",
    "        vsota += 1/((d_u * d_v)**(1/2))\n",
    "    return(vsota)"
   ]
  },
  {
   "cell_type": "code",
   "execution_count": 6,
   "metadata": {
    "collapsed": false
   },
   "outputs": [
   ],
   "source": [
    "def fitness(graf):\n",
    "    '''Vrne vrednost naše neenakosti. Če je vrednost negativna, lema ne drži.'''\n",
    "    return randic(graf) - graf.radius() + 1"
   ]
  },
  {
   "cell_type": "code",
   "execution_count": 7,
   "metadata": {
    "collapsed": false
   },
   "outputs": [
   ],
   "source": [
    "def fitness_populacije(populacija):\n",
    "    '''Naredi seznam naborov oblike (graf, njegov fitnes).'''\n",
    "    seznam = []\n",
    "    for graf in populacija:\n",
    "        fitnes = fitness(graf)\n",
    "        seznam.append((graf, fitnes))\n",
    "    return seznam"
   ]
  },
  {
   "cell_type": "code",
   "execution_count": 8,
   "metadata": {
    "collapsed": false
   },
   "outputs": [
   ],
   "source": [
    "def tournament_selection(populacija, t):\n",
    "    '''Med t naključno izbranimi grafi izbere tistega z najmanjšim fitnessom.'''\n",
    "    velikost_populacije = len(populacija)\n",
    "    n = randint(0, velikost_populacije - 1)\n",
    "    najbolsi, fitnes_najbolsi = populacija[n]\n",
    "    for i in range(1, t):\n",
    "        n = randint(0, velikost_populacije - 1)\n",
    "        izbrani, fitnes = populacija[n]\n",
    "        if fitnes < fitnes_najbolsi:\n",
    "            najbolsi = izbrani\n",
    "            fitnes_najbolsi = fitnes\n",
    "    return (najbolsi, fitnes_najbolsi)"
   ]
  },
  {
   "cell_type": "markdown",
   "metadata": {
    "collapsed": false
   },
   "source": [
    "S poissonom bomo izbirali število povezav, ki jih bomo v funkciji mutiraj odstranili oziroma dodali. V funkciji crossover nam pove, koliko povezav bomo dodali potomcu."
   ]
  },
  {
   "cell_type": "code",
   "execution_count": 9,
   "metadata": {
    "collapsed": false
   },
   "outputs": [
   ],
   "source": [
    "def poisson(t = 1, lambd = 1/2):\n",
    "    '''poissonova porazdelitev'''\n",
    "    N = 0\n",
    "    S = 0\n",
    "    while S < t:\n",
    "        N += 1\n",
    "        S += expovariate(lambd)\n",
    "    return N"
   ]
  },
  {
   "cell_type": "code",
   "execution_count": 10,
   "metadata": {
    "collapsed": false
   },
   "outputs": [
   ],
   "source": [
    "def mutiraj(graf):\n",
    "    '''Funkcija mutira graf. Z verjetnostjo p = 1/3 doda povezavo, z p = 1/3 odstrani povezavo in z p = 1/3 doda in odstrani povezavo.'''\n",
    "    kopija = Graph(graf)\n",
    "    verjetnost = random()\n",
    "    plus_povezave = poisson(lambd = 2) # max število povezav, ki jih bomo dodali\n",
    "    minus_povezave = poisson(lambd = 2) # max število povezav, ki jih bomo odstranili\n",
    "    if verjetnost <= 1/3:\n",
    "        for k in range(plus_povezave):\n",
    "            u, v = kopija.random_vertex(), kopija.random_vertex()\n",
    "            if u != v:\n",
    "                kopija.add_edge(u, v)\n",
    "        return kopija\n",
    "    elif verjetnost > 1/3 and verjetnost <= 2/3:\n",
    "        for k in range(minus_povezave):\n",
    "            povezava = kopija.random_edge()\n",
    "            kopija.delete_edge(povezava)\n",
    "            if not kopija.is_connected(): # če graf ni več povezan, ko odstranimo povezavo, jo moramo dodati nazaj\n",
    "                kopija.add_edge(povezava)\n",
    "        return kopija\n",
    "    elif verjetnost > 2/3:\n",
    "        for k in range(plus_povezave):\n",
    "            u, v = kopija.random_vertex(), kopija.random_vertex()\n",
    "            if u != v:\n",
    "                kopija.add_edge(u, v)\n",
    "        for k in range(minus_povezave):\n",
    "            povezava = kopija.random_edge()\n",
    "            kopija.delete_edge(povezava)\n",
    "            if not kopija.is_connected():\n",
    "                kopija.add_edge(povezava)\n",
    "        return kopija"
   ]
  },
  {
   "cell_type": "code",
   "execution_count": 11,
   "metadata": {
    "collapsed": false
   },
   "outputs": [
   ],
   "source": [
    "def crossover(a, b):\n",
    "    '''Križa dva grafa med sabo in vrne njunega potomca.'''\n",
    "    n = len(a)\n",
    "    while True:\n",
    "        podgraf_a = a.random_subgraph(0.5) # vrne podgraf grafa a, kjer je vsako vozlišče vsebovano z verjetnostjo 1/2\n",
    "        podgraf_b = b.random_subgraph(0.5) # vrne podgraf grafa b, kjer je vsako vozlišče vsebovano z verjetnostjo 1/2\n",
    "        if len(podgraf_a.vertices()) + len(podgraf_b.vertices()) == n and len(podgraf_a.vertices()) >= 1 and len(podgraf_a.vertices()) < n and podgraf_a.is_connected() and podgraf_b.is_connected():\n",
    "            # z zgornjim pogojem želimo da sta oba podgraf povezana in da imata skupaj n vozlišč in da ni en podgraf prazen drugi pa ima n vozlišč\n",
    "            podgraf_a.relabel()\n",
    "            podgraf_b.relabel()\n",
    "            potomec = podgraf_a.disjoint_union(podgraf_b) # povezave, ki niso skupne med grafoma\n",
    "            nove_povezave = poisson(lambd = log(n/2)) # večji kot je n, več povezav bomo dodal\n",
    "            for k in range(nove_povezave):\n",
    "                u, v = podgraf_a.random_vertex(), podgraf_b.random_vertex()\n",
    "                potomec.add_edge((0, u), (1, v))\n",
    "            potomec.relabel()\n",
    "            break\n",
    "    return potomec"
   ]
  },
  {
   "cell_type": "code",
   "execution_count": 12,
   "metadata": {
    "collapsed": false
   },
   "outputs": [
   ],
   "source": [
    "def zacetna_populacija(velikost, n):\n",
    "    '''Naredi začetno populacijo, kjer imajo grafi n vozlišč.'''\n",
    "    populacija = []\n",
    "    trenutna_velikost = 0\n",
    "    while trenutna_velikost < velikost:\n",
    "        graf = graphs.RandomGNP(n, random()) # Naredi nek naključen graf z n vozlišči. Vsaka povezava je v grafu z neko naključno verjetnostjo.\n",
    "        if graf.is_connected():\n",
    "            populacija.append(graf)\n",
    "            trenutna_velikost += 1\n",
    "    return populacija"
   ]
  },
  {
   "cell_type": "code",
   "execution_count": 13,
   "metadata": {
    "collapsed": false
   },
   "outputs": [
   ],
   "source": [
    "def min_fitness(seznam):\n",
    "    '''V seznamu grafov poišče graf z najmanjšim fitnessom.'''\n",
    "    najbolsi, najbolsi_fitnes = seznam[0]\n",
    "    for nabor in seznam[1:]:\n",
    "        graf, fitnes = nabor\n",
    "        if fitnes < najbolsi_fitnes:\n",
    "            najbolsi_fitnes = fitnes\n",
    "            najbolsi = graf\n",
    "    return (najbolsi, najbolsi_fitnes)"
   ]
  },
  {
   "cell_type": "code",
   "execution_count": 14,
   "metadata": {
    "collapsed": false
   },
   "outputs": [
   ],
   "source": [
    "def nova_populacija(populacija,t):\n",
    "    '''S križanjem in mutacijo grafov iz podane populacije naredi novo populacijo.'''\n",
    "    nova_populacija = []\n",
    "    trenutna_velikost = 0\n",
    "    velikost_stare = len(populacija)\n",
    "    while trenutna_velikost < velikost_stare:\n",
    "        graf1 = tournament_selection(populacija, t)\n",
    "        graf2 = tournament_selection(populacija, t)\n",
    "        mutacija1 = mutiraj(graf1[0])\n",
    "        mutacija2 = mutiraj(graf2[0])\n",
    "        fit_mut1 = fitness(mutacija1)\n",
    "        fit_mut2 = fitness(mutacija2)\n",
    "        krizan_graf = crossover(mutacija1, mutacija2)\n",
    "        fit_kriz = fitness(krizan_graf)\n",
    "        minimum = min_fitness([(krizan_graf, fit_kriz), (mutacija1, fit_mut1), (mutacija2, fit_mut2), graf1, graf2])\n",
    "        nova_populacija.append(minimum)\n",
    "        trenutna_velikost += 1\n",
    "    return nova_populacija"
   ]
  },
  {
   "cell_type": "code",
   "execution_count": 15,
   "metadata": {
    "collapsed": false
   },
   "outputs": [
   ],
   "source": [
    "def genetic_algorithm(n, k, cas_izvajanja, t=4):\n",
    "    '''Funkcija v vsaki ponovitvi naredi novo populacijo z križanjem in mutiranjem.'''\n",
    "    populacija = zacetna_populacija(n, k)\n",
    "    populacija = fitness_populacije(populacija)\n",
    "    for i in range(cas_izvajanja):\n",
    "        for nabor in populacija:\n",
    "            graf, fitnes = nabor\n",
    "            #print(round(fitnes, 0))\n",
    "            if fitnes < 0:\n",
    "                print('Lema ne drži!')\n",
    "                return graf\n",
    "        populacija = nova_populacija(populacija,t)\n",
    "    return 'Ne najdem protiprimera.'"
   ]
  },
  {
   "cell_type": "markdown",
   "metadata": {
    "collapsed": false
   },
   "source": [
    "Časovna zahtevnost genetskega algoritma je $O$(čas_izvajanja * velikost_populacije * $n^2$)."
   ]
  },
  {
   "cell_type": "code",
   "execution_count": 16,
   "metadata": {
    "collapsed": false,
    "scrolled": true
   },
   "outputs": [
    {
     "data": {
      "text/plain": [
       "'Ne najdem protiprimera.'"
      ]
     },
     "execution_count": 16,
     "metadata": {
     },
     "output_type": "execute_result"
    }
   ],
   "source": [
    "genetic_algorithm(10, 12, 10, 2)"
   ]
  },
  {
   "cell_type": "code",
   "execution_count": 0,
   "metadata": {
    "collapsed": false
   },
   "outputs": [
   ],
   "source": [
   ]
  }
 ],
 "metadata": {
  "kernelspec": {
   "display_name": "SageMath (stable)",
   "language": "sagemath",
   "name": "sagemath"
  },
  "language_info": {
   "codemirror_mode": {
    "name": "ipython",
    "version": 2
   },
   "file_extension": ".py",
   "mimetype": "text/x-python",
   "name": "python",
   "nbconvert_exporter": "python",
   "pygments_lexer": "ipython2",
   "version": "2.7.15"
  }
 },
 "nbformat": 4,
 "nbformat_minor": 0
}