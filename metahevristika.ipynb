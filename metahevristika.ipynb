{
 "cells": [
  {
   "cell_type": "markdown",
   "metadata": {
    "collapsed": false
   },
   "source": [
    "# Population metahevristics"
   ]
  },
  {
   "cell_type": "markdown",
   "metadata": {
    "collapsed": false
   },
   "source": [
    "Genetski algoritem"
   ]
  },
  {
   "cell_type": "code",
   "execution_count": 1,
   "metadata": {
    "collapsed": false
   },
   "outputs": [
   ],
   "source": [
    "def mutiraj(graf):\n",
    "    '''Mutira graf, tako da se sprehodi po grafu in mece kovanc z neko verjetnostjo in dodaja in vzema vozlišča'''\n",
    "    st_vozlisc = len(graf)\n",
    "    poln_graf = graphs.CompleteGraph(st_vozlisc)\n",
    "    vse_mozne_povezave = poln_graf.edges()\n",
    "    st_vseh_moznih_povezav = len(vse_mozne_povezave)\n",
    "    verjetnost = 1 / st_vseh_moznih_povezav\n",
    "    povezave = graf.edges()\n",
    "    for i in range(0, st_vozlisc - 1):\n",
    "        for j in range(i + 1, st_vozlisc):\n",
    "            nakljucno = random()\n",
    "            if (verjetnost >= nakljucno) and ((i, j, None) not in povezave):\n",
    "                graf.add_edge(i, j)\n",
    "            elif (verjetnost >= nakljucno) and ((i, j, None) in povezave):\n",
    "                graf.delete_edge(i, j)\n",
    "                if graf.is_connected() == False:\n",
    "                    graf.add_edge(i, j)\n",
    "    return graf"
   ]
  },
  {
   "cell_type": "code",
   "execution_count": 2,
   "metadata": {
    "collapsed": false
   },
   "outputs": [
   ],
   "source": [
    "def uniform_crossover(a, b):\n",
    "    '''križa seznama z metom kovanca'''\n",
    "    st_vozlisc = len(a)\n",
    "    povezave_a = a.edges()\n",
    "    povezave_b = b.edges()\n",
    "    poln_graf = graphs.CompleteGraph(st_vozlisc)\n",
    "    vse_mozne_povezave = poln_graf.edges()\n",
    "    verjetnost = 1 / len(vse_mozne_povezave)\n",
    "    for i in range(0, st_vozlisc - 1):\n",
    "        for j in range(i + 1, st_vozlisc):\n",
    "            nakljucno = random()\n",
    "            if (verjetnost >= nakljucno) and ((i, j, None) not in povezave_a) and ((i, j, None) not in povezave_b):\n",
    "                None\n",
    "            elif (verjetnost >= nakljucno) and ((i, j, None) in povezave_a) and ((i, j, None) in povezave_b):\n",
    "                None\n",
    "            elif (verjetnost >= nakljucno) and ((i, j, None) not in povezave_a) and ((i, j, None) in povezave_b):\n",
    "                a.add_edge(i, j)\n",
    "                b.delete_edge(i, j)\n",
    "                if b.is_connected() == False:\n",
    "                    b.add_edge(i, j)\n",
    "                    a.delete_edge(i, j)\n",
    "            elif (verjetnost >= nakljucno) and ((i, j, None) in povezave_a) and ((i, j, None) not in povezave_b):\n",
    "                a.delete_edge(i, j)\n",
    "                b.add_edge(i, j)\n",
    "                if a.is_connected() == False:\n",
    "                    a.add_edge(i, j)\n",
    "                    b.delete_edge(i, j)\n",
    "    return (a, b)"
   ]
  },
  {
   "cell_type": "code",
   "execution_count": 3,
   "metadata": {
    "collapsed": false
   },
   "outputs": [
   ],
   "source": [
    "def randic(graf):\n",
    "    '''vrne randicev indeks za nek graf'''\n",
    "    vsota = 0\n",
    "    povezave = graf.edges()\n",
    "    stopnje = graf.degree()\n",
    "    for edge in povezave:\n",
    "        u, v,_ = edge\n",
    "        d_u = stopnje[u]\n",
    "        d_v = stopnje[v]\n",
    "        vsota += 1/((d_u * d_v)**(1/2))\n",
    "    return(vsota)"
   ]
  },
  {
   "cell_type": "code",
   "execution_count": 4,
   "metadata": {
    "collapsed": false
   },
   "outputs": [
   ],
   "source": [
    "def fitness(graf):\n",
    "    return randic(graf) - graf.radius() + 1"
   ]
  },
  {
   "cell_type": "code",
   "execution_count": 5,
   "metadata": {
    "collapsed": false
   },
   "outputs": [
   ],
   "source": [
    "def fitnes_populacije(populacija):\n",
    "    stanja = []\n",
    "    vsota = 0\n",
    "    najbolsi = None\n",
    "    for graf in populacija:\n",
    "        fitnes = fitness(graf)\n",
    "        if fitnes < 0:\n",
    "            return graf, False\n",
    "        vsota += fitnes\n",
    "        stanja.append(fitnes)\n",
    "    dolzina = len(stanja)\n",
    "    if vsota == 0:\n",
    "        stanja = [1] * dolzina\n",
    "    for i in range(1, dolzina):\n",
    "        stanja[i] = stanja[i] + stanja[i - 1]\n",
    "    return stanja, najbolsi"
   ]
  },
  {
   "cell_type": "code",
   "execution_count": 6,
   "metadata": {
    "collapsed": false
   },
   "outputs": [
   ],
   "source": [
    "def izberi(populacija, stanja):\n",
    "    velikost = len(stanja)\n",
    "    n = uniform(0, stanja[-1]) # uniform ima odprto zgornjo mejo, vendar je itak vsen pomojm\n",
    "    for i in range(1, velikost):\n",
    "        if (stanja[i - 1] < n) and (n <= stanja[i]):\n",
    "            return populacija[i]\n",
    "    return populacija[0]"
   ]
  },
  {
   "cell_type": "markdown",
   "metadata": {
    "collapsed": false
   },
   "source": [
    "Dejanski algoritem"
   ]
  },
  {
   "cell_type": "code",
   "execution_count": 7,
   "metadata": {
    "collapsed": false
   },
   "outputs": [
   ],
   "source": [
    "def zacetna_populacija(zeljena_velikost, n):\n",
    "    '''naredi neko nakljucno zacetno populacijo, ki imajo n vozlišč'''\n",
    "    populacija = []\n",
    "    trenutna_velikost = 0\n",
    "    while trenutna_velikost < zeljena_velikost:\n",
    "        graf = graphs.RandomGNP(n, random())\n",
    "        if graf.is_connected():\n",
    "            populacija.append(graf)\n",
    "            trenutna_velikost += 1\n",
    "    return populacija"
   ]
  },
  {
   "cell_type": "code",
   "execution_count": 8,
   "metadata": {
    "collapsed": false
   },
   "outputs": [
   ],
   "source": [
    "def genetski_algoritem(n, k, cas_izvajanja):\n",
    "    '''n je željena velikost populacije, k velikosti grafov'''\n",
    "    P = zacetna_populacija(n, k)\n",
    "    for i in range(cas_izvajanja):\n",
    "        stanja, najbolsi = fitnes_populacije(P)\n",
    "        if najbolsi == False:\n",
    "            return stanja\n",
    "        Q = []\n",
    "        for j in range(0, round(n / 2, 0)):\n",
    "            oce_a = izberi(P, stanja)\n",
    "            oce_b = izberi(P, stanja)\n",
    "            otrok_a, otrok_b = uniform_crossover(oce_a, oce_b)\n",
    "            Q.append(mutiraj(otrok_a))\n",
    "            Q.append(mutiraj(otrok_b))\n",
    "        P = Q\n",
    "    return True"
   ]
  },
  {
   "cell_type": "code",
   "execution_count": 94,
   "metadata": {
    "collapsed": false
   },
   "outputs": [
    {
     "data": {
      "text/plain": [
       "True"
      ]
     },
     "execution_count": 94,
     "metadata": {
     },
     "output_type": "execute_result"
    }
   ],
   "source": [
    "genetski_algoritem(10, 10, 10)"
   ]
  },
  {
   "cell_type": "code",
   "execution_count": 12,
   "metadata": {
    "collapsed": false
   },
   "outputs": [
   ],
   "source": [
    "genetski_algoritem(15, 40, 40)"
   ]
  },
  {
   "cell_type": "code",
   "execution_count": 0,
   "metadata": {
    "collapsed": false
   },
   "outputs": [
   ],
   "source": [
   ]
  }
 ],
 "metadata": {
  "kernelspec": {
   "display_name": "SageMath (stable)",
   "language": "sagemath",
   "name": "sagemath"
  },
  "language_info": {
   "codemirror_mode": {
    "name": "ipython",
    "version": 2
   },
   "file_extension": ".py",
   "mimetype": "text/x-python",
   "name": "python",
   "nbconvert_exporter": "python",
   "pygments_lexer": "ipython2",
   "version": "2.7.15"
  }
 },
 "nbformat": 4,
 "nbformat_minor": 0
}